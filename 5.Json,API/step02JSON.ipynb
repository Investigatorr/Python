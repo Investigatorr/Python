{
 "cells": [
  {
   "cell_type": "code",
   "execution_count": null,
   "metadata": {},
   "outputs": [
    {
     "name": "stdout",
     "output_type": "stream",
     "text": [
      "<built-in method values of dict object at 0x000001F2A4A32900>\n"
     ]
    }
   ],
   "source": [
    "'''\n",
    "서로 다른 기종간 호환되는 포맷인  JSON타입으로 변환하는 작업\n",
    "JSON 사용하는 이유\n",
    "    : 값 구분이 명확\n",
    "    : 기기에 종속적이지 않음\n",
    "    : 모든 언어가 호환되는 포맷\n",
    "    :  csv보다 더 효율적인 사유는??\n",
    "        => 고유한 key로 데이터 구분\n",
    "    : 서버로부터 대량의 데이터를 client가  JASON 포맷으로 많이 사용\n",
    "    : MongoDB의 데이터 저장 포맷 => json형태\n",
    "API\n",
    "    1. python의 list를 JSON형태(객체)로 변환 : dumps()\n",
    "    2. JSON의 데이터를 python의 데이터로 변환 : loads()\n",
    "\n",
    "실습단계\n",
    "    1. 모듈 import\n",
    "    2. test 데이터 구성\n",
    "    3. json객체로 변환\n",
    "\n",
    "고려사항\n",
    "\n",
    "    1. 한글 데이터 보호(인코딩)\n",
    "    \n",
    "'''"
   ]
  },
  {
   "cell_type": "code",
   "execution_count": 1,
   "metadata": {},
   "outputs": [
    {
     "name": "stdout",
     "output_type": "stream",
     "text": [
      "허준\n"
     ]
    }
   ],
   "source": [
    "import json\n",
    "\n",
    "friends = [\n",
    "            {'f1' : 1, 'name' : '박성백'},\n",
    "            {'f2' : 2, 'name' : '이이'},\n",
    "            {'f3' : 3, 'name' : '허준'}\n",
    "            ]\n",
    "\n",
    "\n",
    "\n",
    "# '허준'을 반환하려면??\n",
    "print(friends[2]['name'])"
   ]
  },
  {
   "cell_type": "code",
   "execution_count": 4,
   "metadata": {},
   "outputs": [
    {
     "name": "stdout",
     "output_type": "stream",
     "text": [
      "[{'f1': 1, 'name': '박성백'}, {'f2': 2, 'name': '이이'}, {'f3': 3, 'name': '허준'}]\n"
     ]
    }
   ],
   "source": [
    "print(friends)"
   ]
  },
  {
   "cell_type": "code",
   "execution_count": 6,
   "metadata": {},
   "outputs": [
    {
     "name": "stdout",
     "output_type": "stream",
     "text": [
      " ### list를 json객체로 변환해 보기\n"
     ]
    }
   ],
   "source": [
    "print(' ### list를 json객체로 변환해 보기')"
   ]
  },
  {
   "cell_type": "code",
   "execution_count": 7,
   "metadata": {},
   "outputs": [
    {
     "name": "stdout",
     "output_type": "stream",
     "text": [
      "[{\"f1\": 1, \"name\": \"박성백\"}, {\"f2\": 2, \"name\": \"이이\"}, {\"f3\": 3, \"name\": \"허준\"}]\n"
     ]
    }
   ],
   "source": [
    "jsonData = json.dumps(friends, ensure_ascii=False)\n",
    "print(jsonData)"
   ]
  },
  {
   "cell_type": "code",
   "execution_count": 15,
   "metadata": {},
   "outputs": [
    {
     "name": "stdout",
     "output_type": "stream",
     "text": [
      "[\n",
      "          {\n",
      "                    \"f1\": 1,\n",
      "                    \"name\": \"박성백\"\n",
      "          },\n",
      "          {\n",
      "                    \"f2\": 2,\n",
      "                    \"name\": \"이이\"\n",
      "          },\n",
      "          {\n",
      "                    \"f3\": 3,\n",
      "                    \"name\": \"허준\"\n",
      "          }\n",
      "]\n"
     ]
    }
   ],
   "source": [
    "jsonData = json.dumps(friends, ensure_ascii=False, indent=10) # one indent parameter applying four spaces\n",
    "print(jsonData)"
   ]
  },
  {
   "cell_type": "code",
   "execution_count": 12,
   "metadata": {},
   "outputs": [
    {
     "name": "stdout",
     "output_type": "stream",
     "text": [
      "<class 'list'>\n",
      "<class 'str'>\n"
     ]
    }
   ],
   "source": [
    "# 타입 비교\n",
    "print(type(friends))\n",
    "print(type(jsonData))"
   ]
  },
  {
   "cell_type": "code",
   "execution_count": 16,
   "metadata": {},
   "outputs": [],
   "source": [
    "# json 확장자 파일로 생성\n",
    "with open(\"friends.json\", 'w', encoding='utf-8 sig') as f:\n",
    "    json.dump(friends, fp=f, ensure_ascii=False) # dump f returns values"
   ]
  },
  {
   "cell_type": "markdown",
   "metadata": {},
   "source": [
    "### w3에서 가져온 json 예제\n",
    "https://www.w3schools.com/python/python_json.asp\n",
    "예제 이해하기\n",
    "\n",
    "이 데이터를 파일로 저장\n",
    "\n",
    "저장된 파일을 다시 read해서 python data로 변환 후 활용(출력)\n",
    "\n",
    ">의도\n",
    "    -json과 python의 호환 작업 익숙해지기\n",
    "    - 개별 함수로 개발해서 모듈화 시키는 연습\n",
    "\n",
    "\n",
    "- main 사용 필수 : 최상위 실행 스크립트"
   ]
  },
  {
   "cell_type": "code",
   "execution_count": 46,
   "metadata": {},
   "outputs": [
    {
     "name": "stdout",
     "output_type": "stream",
     "text": [
      "{\n",
      "          \"name\": \"John\",\n",
      "          \"age\": 30,\n",
      "          \"married\": true,\n",
      "          \"divorced\": false,\n",
      "          \"children\": [\n",
      "                    \"Ann\",\n",
      "                    \"Billy\"\n",
      "          ],\n",
      "          \"pets\": null,\n",
      "          \"cars\": [\n",
      "                    {\n",
      "                              \"model\": \"BMW 230\",\n",
      "                              \"mpg\": 27.5\n",
      "                    },\n",
      "                    {\n",
      "                              \"model\": \"Ford Edge\",\n",
      "                              \"mpg\": 24.1\n",
      "                    }\n",
      "          ]\n",
      "}\n"
     ]
    }
   ],
   "source": [
    "# dump() => python to JSON\n",
    "import json\n",
    "\n",
    "\n",
    "x = {\n",
    "  \"name\": \"John\",\n",
    "  \"age\": 30,\n",
    "  \"married\": True,\n",
    "  \"divorced\": False,\n",
    "  \"children\": (\"Ann\",\"Billy\"),\n",
    "  \"pets\": None,\n",
    "  \"cars\": [\n",
    "    {\"model\": \"BMW 230\", \"mpg\": 27.5},\n",
    "    {\"model\": \"Ford Edge\", \"mpg\": 24.1}\n",
    "  ]\n",
    "}\n",
    "\n",
    "with open('marriage.json', 'w', encoding='utf-8 sig') as f:    \n",
    "    print(json.dumps(x, ensure_ascii=False, indent=10))"
   ]
  },
  {
   "cell_type": "code",
   "execution_count": 33,
   "metadata": {},
   "outputs": [
    {
     "name": "stdout",
     "output_type": "stream",
     "text": [
      "new_marriage.json 파일을 저장했습니다.\n"
     ]
    }
   ],
   "source": [
    "# json으로 보내는 모듈\n",
    "def ptoj(x, y):\n",
    "    with open(y, 'w', encoding='utf-8 sig') as f:\n",
    "        json.dump(x, fp=f, ensure_ascii = False, indent = 5)\n",
    "        print('{} 파일을 저장했습니다.'.format(y))\n",
    "\n",
    "ptoj(x, 'new_marriage.json')  "
   ]
  },
  {
   "cell_type": "code",
   "execution_count": 43,
   "metadata": {},
   "outputs": [
    {
     "name": "stdout",
     "output_type": "stream",
     "text": [
      "{'name': 'John', 'age': 30, 'married': True, 'divorced': False, 'children': ['Ann', 'Billy'], 'pets': None, 'cars': [{'model': 'BMW 230', 'mpg': 27.5}, {'model': 'Ford Edge', 'mpg': 24.1}]}\n"
     ]
    }
   ],
   "source": [
    "# jtop 불러오기 모듈\n",
    "\n",
    "def jtop(x):\n",
    "    with open(x, 'r', encoding = 'utf-8 sig') as f:\n",
    "        print(json.load(f))\n",
    "    \n",
    "jtop('new_marriage.json')"
   ]
  },
  {
   "cell_type": "code",
   "execution_count": 41,
   "metadata": {},
   "outputs": [
    {
     "name": "stdout",
     "output_type": "stream",
     "text": [
      "{'name': 'John', 'age': 30, 'married': True, 'divorced': False, 'children': ['Ann', 'Billy'], 'pets': None, 'cars': [{'model': 'BMW 230', 'mpg': 27.5}, {'model': 'Ford Edge', 'mpg': 24.1}]}\n"
     ]
    }
   ],
   "source": [
    "# jtop불러오기 연습\n",
    "with open('new_marriage.json', 'r', encoding = 'utf-8 sig') as f:\n",
    "    print(json.load(f))"
   ]
  },
  {
   "cell_type": "code",
   "execution_count": null,
   "metadata": {},
   "outputs": [],
   "source": []
  },
  {
   "cell_type": "code",
   "execution_count": null,
   "metadata": {},
   "outputs": [],
   "source": []
  }
 ],
 "metadata": {
  "kernelspec": {
   "display_name": "Python 3",
   "language": "python",
   "name": "python3"
  },
  "language_info": {
   "codemirror_mode": {
    "name": "ipython",
    "version": 3
   },
   "file_extension": ".py",
   "mimetype": "text/x-python",
   "name": "python",
   "nbconvert_exporter": "python",
   "pygments_lexer": "ipython3",
   "version": "3.7.0"
  }
 },
 "nbformat": 4,
 "nbformat_minor": 2
}
