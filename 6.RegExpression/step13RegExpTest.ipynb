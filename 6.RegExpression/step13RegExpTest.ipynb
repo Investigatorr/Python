{
 "cells": [
  {
   "cell_type": "markdown",
   "metadata": {},
   "source": [
    "# [문자 클래스]\n",
    "\n",
    "1. [abc] - a, b, c중 한 개의 문자와 매치\n",
    "  - a : 매치여부 OK\n",
    "  - apple : ok\n",
    "  - double : no\n",
    "\n",
    "2. \\d   : 숫자와 매치, [0-9]와 동일\n",
    "\n",
    "3. \\D : 숫자가 아닌 것과 매치 [^0-9]와 동일\n",
    "\n",
    "4. \\s : whitespace 문자와 매치\n",
    "\n",
    "5. \\S : whitespace 문자가 아닌것과 매치, \n",
    "\n",
    "6. \\w : 문잦 + 숫자와 매치, [a-zA-Z0-9]와 동일\n",
    "\n",
    "7. \\W : 문자+숫자가 아닌 문자와 매치. [^a-zA-Z0-9]와 동일\n",
    "  \n",
    "8. a.b : a와 b 사이에 줄바꿈 문자를 제외한 모든 문자 허용\n",
    "\n",
    "9. a[.]b : a와 b 사이에 dot 문자만 허용\n",
    "\n",
    "10. ca*t  : a 문자가 0번 이상 반복 허용\n",
    "\n",
    "11. ca+t :  a 문자가 1번 이상 반복 허용\n",
    "\n",
    "12. ca?t : a 문자가 없거나, 1번만 허용\n",
    "\n",
    "13. ca{3}t : a 문자가 3번 반복되면 매치\n",
    "\n",
    "14. ca{2, 3}t : a 문자가 2~3번 반복되면 매치"
   ]
  },
  {
   "cell_type": "markdown",
   "metadata": {},
   "source": [
    "## 정규 표현식\n",
    "\n",
    "1. 참고url<br>\n",
    "https://docs.python.org/ko/3.6/library/re.html#module-re<br>\n",
    "\n",
    "> 주요 API\n",
    "1. compile() : 형식이 반영되는 함수, 실행속도가 좋음 (re.compile('???'))\n",
    "- search() : 데이터 !!전체에서!! 정규식에 부합하는 문자열 존재여부 검색\n",
    "- match() : 데이터 !!처음부분!!이 정규식과 부합하는지 검색\n",
    "- group() : 정규식에서 필터링한 데이터를 파이썬에서 출력시 사용\n",
    "- findall() : 정규식에 부합하는 모든 문자열을 리스트로 리턴\n",
    "- sub() : 패턴과 일치되는 부분을 다른 문자로 변경\n",
    "- split() : 주어진 문자열을 특정 패턴으로 구분해서 분리"
   ]
  },
  {
   "cell_type": "markdown",
   "metadata": {},
   "source": [
    "### 문제 1\n",
    ">[^ab]\n",
    "match로 abc에서 c는 왜 출력이 안되냐??"
   ]
  },
  {
   "cell_type": "code",
   "execution_count": 1,
   "metadata": {},
   "outputs": [],
   "source": [
    "import re"
   ]
  },
  {
   "cell_type": "code",
   "execution_count": 7,
   "metadata": {},
   "outputs": [
    {
     "name": "stdout",
     "output_type": "stream",
     "text": [
      "None\n"
     ]
    }
   ],
   "source": [
    "pattern = re.compile('[^ab]')   # 대괄호 없으면\n",
    "data = pattern.match('abc')\n",
    "print(data)"
   ]
  },
  {
   "cell_type": "code",
   "execution_count": 8,
   "metadata": {},
   "outputs": [
    {
     "name": "stdout",
     "output_type": "stream",
     "text": [
      "<re.Match object; span=(0, 1), match='c'>\n"
     ]
    }
   ],
   "source": [
    "pattern = re.compile('[^ab]')\n",
    "data = pattern.search('cab') # c 잘 튀어나옴\n",
    "print(data)"
   ]
  },
  {
   "cell_type": "code",
   "execution_count": 9,
   "metadata": {},
   "outputs": [
    {
     "name": "stdout",
     "output_type": "stream",
     "text": [
      "<re.Match object; span=(2, 3), match='c'>\n"
     ]
    }
   ],
   "source": [
    "pattern = re.compile('[^ab]')\n",
    "data = pattern.search('abc')\n",
    "print(data)"
   ]
  },
  {
   "cell_type": "markdown",
   "metadata": {},
   "source": [
    "### 문제 1-1\n",
    ">encore만 표현될 수 있는 정규 표현식"
   ]
  },
  {
   "cell_type": "code",
   "execution_count": 17,
   "metadata": {},
   "outputs": [
    {
     "data": {
      "text/plain": [
       "<re.Match object; span=(15, 21), match='encore'>"
      ]
     },
     "execution_count": 17,
     "metadata": {},
     "output_type": "execute_result"
    }
   ],
   "source": [
    "pattern = re.compile('e....e')\n",
    "pattern.search('The IT company encore earned 900,000,000won in Korea.!')"
   ]
  },
  {
   "cell_type": "code",
   "execution_count": 18,
   "metadata": {},
   "outputs": [
    {
     "data": {
      "text/plain": [
       "<re.Match object; span=(15, 21), match='encore'>"
      ]
     },
     "execution_count": 18,
     "metadata": {},
     "output_type": "execute_result"
    }
   ],
   "source": [
    "pattern = re.compile('e.{4}e')\n",
    "pattern.search('The IT company encore earned 900,000,000won in Korea.!')"
   ]
  },
  {
   "cell_type": "code",
   "execution_count": 26,
   "metadata": {},
   "outputs": [
    {
     "data": {
      "text/plain": [
       "<re.Match object; span=(15, 21), match='encore'>"
      ]
     },
     "execution_count": 26,
     "metadata": {},
     "output_type": "execute_result"
    }
   ],
   "source": [
    "pattern = re.compile('e[A-z]+e')\n",
    "pattern.search('The IT company encore earned 900,000,000won in Korea.!')"
   ]
  },
  {
   "cell_type": "code",
   "execution_count": 19,
   "metadata": {},
   "outputs": [
    {
     "data": {
      "text/plain": [
       "<re.Match object; span=(15, 21), match='encore'>"
      ]
     },
     "execution_count": 19,
     "metadata": {},
     "output_type": "execute_result"
    }
   ],
   "source": [
    "pattern = re.compile('ent?core')\n",
    "pattern.search('The IT company encore earned 900,000,000won in Korea.!')"
   ]
  },
  {
   "cell_type": "code",
   "execution_count": 31,
   "metadata": {},
   "outputs": [
    {
     "data": {
      "text/plain": [
       "<re.Match object; span=(18, 20), match='or'>"
      ]
     },
     "execution_count": 31,
     "metadata": {},
     "output_type": "execute_result"
    }
   ],
   "source": [
    "pattern = re.compile('\\D????????')\n",
    "pattern.search('The IT company encore earned 900,000,000won in Korea.!')"
   ]
  },
  {
   "cell_type": "code",
   "execution_count": 20,
   "metadata": {},
   "outputs": [
    {
     "data": {
      "text/plain": [
       "<re.Match object; span=(29, 40), match='900,000,000'>"
      ]
     },
     "execution_count": 20,
     "metadata": {},
     "output_type": "execute_result"
    }
   ],
   "source": [
    "pattern = re.compile('9[\\d,]+')\n",
    "pattern.search('The IT company encore earned 900,000,000won in Korea.!')"
   ]
  },
  {
   "cell_type": "markdown",
   "metadata": {},
   "source": [
    "### 문제 2. 설명에 맞는 정규 표현식을 만들어라.\n",
    ">data로 시작하면 data다음에는 whitespace가 와야 하며, 그 뒤에는 문자와 숫자와 조합될 수 있는 단어가 와야 한다."
   ]
  },
  {
   "cell_type": "code",
   "execution_count": 35,
   "metadata": {},
   "outputs": [
    {
     "data": {
      "text/plain": [
       "<re.Match object; span=(0, 13), match='data cleanser'>"
      ]
     },
     "execution_count": 35,
     "metadata": {},
     "output_type": "execute_result"
    }
   ],
   "source": [
    "pattern = re.compile('^data\\s\\w+')\n",
    "pattern.search('data cleanser')"
   ]
  },
  {
   "cell_type": "markdown",
   "metadata": {},
   "source": [
    "### 문제 3\n",
    ">000-0000-0000과 같은 전화번호 형태의 정규 표현식 만들기"
   ]
  },
  {
   "cell_type": "code",
   "execution_count": 38,
   "metadata": {},
   "outputs": [],
   "source": [
    "# 내 오답\n",
    "pattern = re.compile('\\d[0-9]{3}-\\d[0-9]{4}-\\d[0-9]{4}')\n",
    "pattern.search('010-5188-4686')"
   ]
  },
  {
   "cell_type": "code",
   "execution_count": 40,
   "metadata": {},
   "outputs": [
    {
     "data": {
      "text/plain": [
       "<re.Match object; span=(0, 13), match='010-5188-4686'>"
      ]
     },
     "execution_count": 40,
     "metadata": {},
     "output_type": "execute_result"
    }
   ],
   "source": [
    "# 정답\n",
    "pattern = re.compile('\\d{3}-\\d{3,4}-\\d{4}')\n",
    "pattern.search('010-5188-4686')"
   ]
  },
  {
   "cell_type": "markdown",
   "metadata": {},
   "source": [
    "### 문제 4\n",
    "> 이름 000-0000-0000 과 같은 전화번호 형태의 정규 표현식 만들기"
   ]
  },
  {
   "cell_type": "code",
   "execution_count": 47,
   "metadata": {},
   "outputs": [
    {
     "data": {
      "text/plain": [
       "<re.Match object; span=(0, 17), match='송병길 010-5188-4686'>"
      ]
     },
     "execution_count": 47,
     "metadata": {},
     "output_type": "execute_result"
    }
   ],
   "source": [
    "pattern = re.compile('\\D+\\s\\d{3}-\\d{3,4}-\\d{4}')\n",
    "pattern.search('송병길 010-5188-4686')"
   ]
  },
  {
   "cell_type": "code",
   "execution_count": 48,
   "metadata": {},
   "outputs": [],
   "source": [
    "pattern = re.compile('\\D+\\b\\d{3}-\\d{3,4}-\\d{4}')  # 이건 왜 않되?\n",
    "pattern.search('송병길 010-5188-4686')"
   ]
  },
  {
   "cell_type": "markdown",
   "metadata": {},
   "source": [
    "### 문제 4-2. 제시된 실행 경과를 보고 pattern 완성해 보기\n",
    "> 결과 : 검색된 데이터 : two\n",
    "> 참고 : group() : 매치된 문자열을 리턴"
   ]
  },
  {
   "cell_type": "code",
   "execution_count": 69,
   "metadata": {},
   "outputs": [
    {
     "name": "stdout",
     "output_type": "stream",
     "text": [
      "검색된 데이터 :   two\n"
     ]
    }
   ],
   "source": [
    "p = re.compile('\\s\\w{3}')\n",
    "# 데이터가 존재하면 데이터 반환\n",
    "# 데이터가 없으면 None값 반환\n",
    "n = p.search('one two three')\n",
    "if n != None:\n",
    "    print('검색된 데이터 : ', n.group())   \n",
    "else:\n",
    "    print('검색 불가')"
   ]
  },
  {
   "cell_type": "code",
   "execution_count": 71,
   "metadata": {},
   "outputs": [
    {
     "name": "stdout",
     "output_type": "stream",
     "text": [
      "검색된 데이터 :  two\n"
     ]
    }
   ],
   "source": [
    "p = re.compile('t\\w+')\n",
    "# 데이터가 존재하면 데이터 반환\n",
    "# 데이터가 없으면 None값 반환\n",
    "n = p.search('one two three')\n",
    "if n != None:\n",
    "    print('검색된 데이터 : ', n.group())   \n",
    "else:\n",
    "    print('검색 불가')"
   ]
  },
  {
   "cell_type": "code",
   "execution_count": 65,
   "metadata": {},
   "outputs": [
    {
     "data": {
      "text/plain": [
       "<re.Match object; span=(7, 13), match=' three'>"
      ]
     },
     "execution_count": 65,
     "metadata": {},
     "output_type": "execute_result"
    }
   ],
   "source": [
    "# 연습장\n",
    "pattern = re.compile('\\s\\w+')\n",
    "pattern.search('one two three')"
   ]
  },
  {
   "cell_type": "markdown",
   "metadata": {},
   "source": [
    "### 문제 5. 문자열에서 'python one'만을 반환하는 pattern 만들기"
   ]
  },
  {
   "cell_type": "code",
   "execution_count": 72,
   "metadata": {},
   "outputs": [
    {
     "name": "stdout",
     "output_type": "stream",
     "text": [
      "python one\n"
     ]
    }
   ],
   "source": [
    "p = re.compile(\"p\\w+\\so\\w+\")\n",
    "m = p.search(\"\"\"python one\n",
    "life is too short\n",
    "python two\n",
    "you need python\n",
    "python three\"\"\")\n",
    "\n",
    "print(m.group())"
   ]
  },
  {
   "cell_type": "code",
   "execution_count": 84,
   "metadata": {},
   "outputs": [
    {
     "ename": "AttributeError",
     "evalue": "'re.Match' object has no attribute 'findall'",
     "output_type": "error",
     "traceback": [
      "\u001b[1;31m---------------------------------------------------------------------------\u001b[0m",
      "\u001b[1;31mAttributeError\u001b[0m                            Traceback (most recent call last)",
      "\u001b[1;32m<ipython-input-84-3bf7202b3540>\u001b[0m in \u001b[0;36m<module>\u001b[1;34m()\u001b[0m\n\u001b[0;32m      6\u001b[0m python three\"\"\")\n\u001b[0;32m      7\u001b[0m \u001b[1;33m\u001b[0m\u001b[0m\n\u001b[1;32m----> 8\u001b[1;33m \u001b[0mprint\u001b[0m\u001b[1;33m(\u001b[0m\u001b[0mm\u001b[0m\u001b[1;33m.\u001b[0m\u001b[0mfindall\u001b[0m\u001b[1;33m(\u001b[0m\u001b[1;33m)\u001b[0m\u001b[1;33m)\u001b[0m\u001b[1;33m\u001b[0m\u001b[0m\n\u001b[0m",
      "\u001b[1;31mAttributeError\u001b[0m: 're.Match' object has no attribute 'findall'"
     ]
    }
   ],
   "source": [
    "p = re.compile(\"p\\w+\\so\\w+\")\n",
    "m = p.search(\"\"\"python one\n",
    "life is too short\n",
    "python two\n",
    "you need python\n",
    "python three\"\"\")\n",
    "\n",
    "print(m.findall())"
   ]
  },
  {
   "cell_type": "markdown",
   "metadata": {},
   "source": [
    "### 문제 6. \n",
    "> 입력되는 데이터값을 주민등록구조에 맞게 검증 및 뒷자리는 '문자로 변경해보기' <br> \n",
    "> 검증되는 데이터 구조. 000000-0000000이어야 한다."
   ]
  },
  {
   "cell_type": "code",
   "execution_count": 90,
   "metadata": {},
   "outputs": [
    {
     "name": "stdout",
     "output_type": "stream",
     "text": [
      "121212-1212121\n",
      "121212-*******\n"
     ]
    }
   ],
   "source": [
    "data = input()\n",
    "pattern = re.compile('\\d{6}-\\d{7}')\n",
    "if pattern.match(data) == None:\n",
    "    print('무효! 다시 입력.')\n",
    "else :\n",
    "    data = re.sub('-\\w+', '-*******', data)\n",
    "    print(data)"
   ]
  },
  {
   "cell_type": "markdown",
   "metadata": {},
   "source": [
    ">데이터 크롤링 하기\n",
    "1. 그룹핑이란? 특정 데이터가 계속해서 반복하는지를 조사할 때 사용 가능한 정규식\n",
    "2. grouping  표기 : ()\n",
    "\n",
    ">그루핑 관련 함수\n",
    "1. group() : 매치된 전체 문자열\n",
    "2. group(1) : 첫번째 그룹에 해당하는 문자열\n",
    "3. group(2) : n번째 그룹에 해당하는 문자열"
   ]
  },
  {
   "cell_type": "code",
   "execution_count": 91,
   "metadata": {},
   "outputs": [
    {
     "ename": "SyntaxError",
     "evalue": "EOL while scanning string literal (<ipython-input-91-43950f27b3e9>, line 1)",
     "output_type": "error",
     "traceback": [
      "\u001b[1;36m  File \u001b[1;32m\"<ipython-input-91-43950f27b3e9>\"\u001b[1;36m, line \u001b[1;32m1\u001b[0m\n\u001b[1;33m    pattern = re.compile(r'(\\w+){(\\s+)(\\d+)[-](\\d+)[-](\\d+)})\u001b[0m\n\u001b[1;37m                                                             ^\u001b[0m\n\u001b[1;31mSyntaxError\u001b[0m\u001b[1;31m:\u001b[0m EOL while scanning string literal\n"
     ]
    }
   ],
   "source": [
    "pattern = re.compile(r'(\\w+){(\\s+)(\\d+)[-](\\d+)[-](\\d+)})\n",
    "data = pattern.search('김현중 010-1234-1231')\n",
    "print(data.group(5))"
   ]
  },
  {
   "cell_type": "code",
   "execution_count": 95,
   "metadata": {},
   "outputs": [
    {
     "name": "stdout",
     "output_type": "stream",
     "text": [
      "<re.Match object; span=(0, 8), match='test.zip'>\n"
     ]
    }
   ],
   "source": [
    "# 신통방통 문제     .+[.].+\n",
    "# '파일명.확장자' 형태의 패턴 구성\n",
    "\n",
    "pattern = re.compile('.+[.].+')\n",
    "data = pattern.match('test.zip')\n",
    "print(data)"
   ]
  },
  {
   "cell_type": "code",
   "execution_count": 99,
   "metadata": {},
   "outputs": [
    {
     "name": "stdout",
     "output_type": "stream",
     "text": [
      "None\n"
     ]
    }
   ],
   "source": [
    "# '파일명.확장자' 형태의 패턴 구성\n",
    "# 단 bat는 제외(힌트 : b로 시작하는 것 제외하기)\n",
    "\n",
    "pattern = re.compile('.+[.][^b].+')\n",
    "data = pattern.search('test.bzip')\n",
    "print(data)"
   ]
  }
 ],
 "metadata": {
  "kernelspec": {
   "display_name": "Python 3",
   "language": "python",
   "name": "python3"
  },
  "language_info": {
   "codemirror_mode": {
    "name": "ipython",
    "version": 3
   },
   "file_extension": ".py",
   "mimetype": "text/x-python",
   "name": "python",
   "nbconvert_exporter": "python",
   "pygments_lexer": "ipython3",
   "version": "3.7.0"
  }
 },
 "nbformat": 4,
 "nbformat_minor": 2
}
